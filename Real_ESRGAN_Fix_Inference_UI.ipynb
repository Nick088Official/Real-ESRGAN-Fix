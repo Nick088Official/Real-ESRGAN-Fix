{
  "nbformat": 4,
  "nbformat_minor": 0,
  "metadata": {
    "colab": {
      "provenance": [],
      "collapsed_sections": [
        "6BPxh_VmVVIu"
      ],
      "gpuType": "T4",
      "include_colab_link": true
    },
    "kernelspec": {
      "name": "python3",
      "display_name": "Python 3"
    },
    "language_info": {
      "name": "python"
    },
    "accelerator": "GPU"
  },
  "cells": [
    {
      "cell_type": "markdown",
      "metadata": {
        "id": "view-in-github",
        "colab_type": "text"
      },
      "source": [
        "<a href=\"https://colab.research.google.com/github/Nick088Official/Real-ESRGAN-Fix/blob/master/Real_ESRGAN_Fix_Inference_UI.ipynb\" target=\"_parent\"><img src=\"https://colab.research.google.com/assets/colab-badge.svg\" alt=\"Open In Colab\"/></a>"
      ]
    },
    {
      "cell_type": "markdown",
      "metadata": {
        "id": "IRDbDYYMQt_Y"
      },
      "source": [
        "# Real-ESRGAN Inference Demo WEB UI\n",
        "\n",
        "[![arXiv](https://img.shields.io/badge/arXiv-Paper-<COLOR>.svg)](https://arxiv.org/abs/2107.10833)\n",
        "[![GitHub Stars](https://img.shields.io/github/stars/xinntao/Real-ESRGAN?style=social)](https://github.com/xinntao/Real-ESRGAN)\n",
        "[![download](https://img.shields.io/github/downloads/xinntao/Real-ESRGAN/total.svg)](https://github.com/xinntao/Real-ESRGAN/releases)\n",
        "\n",
        "This is a **Practical Image Restoration Demo** of our paper [''Real-ESRGAN: Training Real-World Blind Super-Resolution with Pure Synthetic Data''](https://arxiv.org/abs/2107.10833).\n",
        "We extend the powerful ESRGAN to a practical restoration application (namely, Real-ESRGAN), which is trained with pure synthetic data. <br>\n",
        "The following figure shows some real-life examples.\n",
        "\n",
        "<img src=\"https://raw.githubusercontent.com/xinntao/Real-ESRGAN/master/assets/teaser.jpg\" width=\"100%\">\n",
        "\n",
        "**Note that RealESRGAN may still fail in some cases as the real-world degradations are really too complex.**<br>\n",
        "Moreover, it **may not** perform well on **human faces, text**, *etc*, you could try [GFPGAN](https://colab.research.google.com/github/Nick088Official/GFPGAN-Fix/blob/master/GFPGAN_fix_inference.ipynb) for that\n",
        "<br>\n",
        "\n",
        "For more info about the models check: https://github.com/Nick088Official/Real-ESRGAN-Fix/blob/master/docs/model_zoo.md\n",
        "\n",
        "**Credits:** [Nick088](https://linktr.ee/Nick088), Xinntao, Tencent, Geeve George"
      ]
    },
    {
      "cell_type": "code",
      "metadata": {
        "id": "GnpnrLfMV2jU",
        "cellView": "form"
      },
      "source": [
        "#@title Installation\n",
        "#@markdown Before running, make sure that you choose\n",
        "#@markdown * Runtime Type = Python 3\n",
        "#@markdown * Hardware Accelerator = GPU (Faster, free daily limit of gpu around 12 hours) or CPU (very slow)\n",
        "\n",
        "#@markdown in the **Runtime** menu -> **Change runtime type**\n",
        "\n",
        "#@markdown By running this, we clone the repository, set up the envrironment.\n",
        "\n",
        "# Clone Real-ESRGAN and enter the Real-ESRGAN\n",
        "from IPython.display import clear_output\n",
        "import torch\n",
        "\n",
        "if torch.cuda.is_available():\n",
        "    device = \"cuda\"\n",
        "    print(\"Using GPU\")\n",
        "else:\n",
        "    device = \"cpu\"\n",
        "    print(\"Using CPU, you won't be able to use v1 model\")\n",
        "\n",
        "!git clone https://huggingface.co/spaces/Nick088/Real-ESRGAN-Fix\n",
        "%cd Real-ESRGAN-Fix\n",
        "# Set up the environment\n",
        "!pip install facexlib\n",
        "!pip install gfpgan\n",
        "!pip install -r requirements.txt\n",
        "!pip uninstall -y basicsr\n",
        "!pip install new-basicsr\n",
        "!python setup.py develop\n",
        "clear_output()\n",
        "print(\"Installed with all its requisited and models\")"
      ],
      "execution_count": null,
      "outputs": []
    },
    {
      "cell_type": "code",
      "source": [
        "#@title Run UI\n",
        "def replace_line_in_file(file_path, line_number, new_line):\n",
        "    try:\n",
        "        # Read the existing file content\n",
        "        with open(file_path, 'r') as file:\n",
        "            lines = file.readlines()\n",
        "\n",
        "        # Check if the line number is valid\n",
        "        if 1 <= line_number <= len(lines):\n",
        "            # Replace the line\n",
        "            lines[line_number - 1] = new_line\n",
        "\n",
        "            # Write the updated content back to the file\n",
        "            with open(file_path, 'w') as file:\n",
        "                file.writelines(lines)\n",
        "            return True\n",
        "        else:\n",
        "            print(f\"Error: Line number {line_number} is out of range.\")\n",
        "            return False\n",
        "    except Exception as e:\n",
        "        print(f\"Error: {str(e)}\")\n",
        "        return False\n",
        "\n",
        "# Example usage: Replace line 5 in \"example.py\" with a new line\n",
        "file_path = \"/content/Real-ESRGAN-Fix/app.py\"\n",
        "line_number = 97\n",
        "new_line = \"demo.launch(share=True, debug=True)\"\n",
        "\n",
        "if replace_line_in_file(file_path, line_number, new_line):\n",
        "    print(f\"Line {line_number} in {file_path} was successfully replaced.\")\n",
        "else:\n",
        "    print(f\"Failed to replace line {line_number} in {file_path}.\")\n",
        "\n",
        "clear_output()\n",
        "!python app.py"
      ],
      "metadata": {
        "cellView": "form",
        "id": "zGziWp7a7ccJ"
      },
      "execution_count": null,
      "outputs": []
    }
  ]
}